{
  "nbformat": 4,
  "nbformat_minor": 0,
  "metadata": {
    "colab": {
      "name": "lab6.ipynb",
      "provenance": [],
      "collapsed_sections": []
    },
    "kernelspec": {
      "name": "python3",
      "display_name": "Python 3"
    }
  },
  "cells": [
    {
      "cell_type": "code",
      "metadata": {
        "id": "xySUiEANPVv5",
        "colab_type": "code",
        "colab": {
          "base_uri": "https://localhost:8080/",
          "height": 195
        },
        "outputId": "40fc9d53-94f0-48d1-a894-ff0b45bbd3eb"
      },
      "source": [
        "import pandas as pd\n",
        "\n",
        "\n",
        "path = '/content/drive/My Drive/Colab Notebooks/lab05-06/egyetemek.txt'\n",
        "towns = []\n",
        "\n",
        "with open(path, 'r') as file:\n",
        "    items = file.readlines()\n",
        "    # filter the states\n",
        "    states = list(filter(lambda x: ('[edit]' in x) and (all(c.isalpha() or c == '[' or c == ']' or c.isspace() for c in x)), items))\n",
        "    # print(states)\n",
        "\n",
        "    statesNr = len(states)\n",
        "    # print(statesNr)\n",
        "\n",
        "    tchars = '[]().,?'\n",
        "\n",
        "    for i, state in enumerate(states):\n",
        "        start = items.index(state) + 1\n",
        "\n",
        "        if i == statesNr-1: \n",
        "            end = len(items)\n",
        "        else:\n",
        "            end = items.index(states[i+1])\n",
        "\n",
        "        tu = list(filter(lambda x: all(c.isalpha() or c.isspace() or c.isnumeric() or (c in tchars) for c in x), items[start:end]))\n",
        "\n",
        "        pairs = map(lambda x: [state, x], tu)\n",
        "        towns.extend(pairs)\n",
        "    \n",
        "df = pd.DataFrame(towns, columns=['State', 'Town'])\n",
        "df.head()"
      ],
      "execution_count": 16,
      "outputs": [
        {
          "output_type": "execute_result",
          "data": {
            "text/html": [
              "<div>\n",
              "<style scoped>\n",
              "    .dataframe tbody tr th:only-of-type {\n",
              "        vertical-align: middle;\n",
              "    }\n",
              "\n",
              "    .dataframe tbody tr th {\n",
              "        vertical-align: top;\n",
              "    }\n",
              "\n",
              "    .dataframe thead th {\n",
              "        text-align: right;\n",
              "    }\n",
              "</style>\n",
              "<table border=\"1\" class=\"dataframe\">\n",
              "  <thead>\n",
              "    <tr style=\"text-align: right;\">\n",
              "      <th></th>\n",
              "      <th>State</th>\n",
              "      <th>Town</th>\n",
              "    </tr>\n",
              "  </thead>\n",
              "  <tbody>\n",
              "    <tr>\n",
              "      <th>0</th>\n",
              "      <td>Alabama[edit]\\n</td>\n",
              "      <td>Auburn (Auburn University)[1]\\n</td>\n",
              "    </tr>\n",
              "    <tr>\n",
              "      <th>1</th>\n",
              "      <td>Alabama[edit]\\n</td>\n",
              "      <td>Florence (University of North Alabama)\\n</td>\n",
              "    </tr>\n",
              "    <tr>\n",
              "      <th>2</th>\n",
              "      <td>Alabama[edit]\\n</td>\n",
              "      <td>Jacksonville (Jacksonville State University)[2]\\n</td>\n",
              "    </tr>\n",
              "    <tr>\n",
              "      <th>3</th>\n",
              "      <td>Alabama[edit]\\n</td>\n",
              "      <td>Livingston (University of West Alabama)[2]\\n</td>\n",
              "    </tr>\n",
              "    <tr>\n",
              "      <th>4</th>\n",
              "      <td>Alabama[edit]\\n</td>\n",
              "      <td>Montevallo (University of Montevallo)[2]\\n</td>\n",
              "    </tr>\n",
              "  </tbody>\n",
              "</table>\n",
              "</div>"
            ],
            "text/plain": [
              "             State                                               Town\n",
              "0  Alabama[edit]\\n                    Auburn (Auburn University)[1]\\n\n",
              "1  Alabama[edit]\\n           Florence (University of North Alabama)\\n\n",
              "2  Alabama[edit]\\n  Jacksonville (Jacksonville State University)[2]\\n\n",
              "3  Alabama[edit]\\n       Livingston (University of West Alabama)[2]\\n\n",
              "4  Alabama[edit]\\n         Montevallo (University of Montevallo)[2]\\n"
            ]
          },
          "metadata": {
            "tags": []
          },
          "execution_count": 16
        }
      ]
    },
    {
      "cell_type": "code",
      "metadata": {
        "id": "eeDX4nStWBi9",
        "colab_type": "code",
        "colab": {
          "base_uri": "https://localhost:8080/",
          "height": 195
        },
        "outputId": "863a6a0b-0dcd-4bac-b748-a76f2e79821d"
      },
      "source": [
        "def clean_town(item):\n",
        "  return item[:item.find('(') - 1]\n",
        "\n",
        "df['Town'] = df.Town.apply(clean_town)\n",
        "df.head()"
      ],
      "execution_count": 17,
      "outputs": [
        {
          "output_type": "execute_result",
          "data": {
            "text/html": [
              "<div>\n",
              "<style scoped>\n",
              "    .dataframe tbody tr th:only-of-type {\n",
              "        vertical-align: middle;\n",
              "    }\n",
              "\n",
              "    .dataframe tbody tr th {\n",
              "        vertical-align: top;\n",
              "    }\n",
              "\n",
              "    .dataframe thead th {\n",
              "        text-align: right;\n",
              "    }\n",
              "</style>\n",
              "<table border=\"1\" class=\"dataframe\">\n",
              "  <thead>\n",
              "    <tr style=\"text-align: right;\">\n",
              "      <th></th>\n",
              "      <th>State</th>\n",
              "      <th>Town</th>\n",
              "    </tr>\n",
              "  </thead>\n",
              "  <tbody>\n",
              "    <tr>\n",
              "      <th>0</th>\n",
              "      <td>Alabama[edit]\\n</td>\n",
              "      <td>Auburn</td>\n",
              "    </tr>\n",
              "    <tr>\n",
              "      <th>1</th>\n",
              "      <td>Alabama[edit]\\n</td>\n",
              "      <td>Florence</td>\n",
              "    </tr>\n",
              "    <tr>\n",
              "      <th>2</th>\n",
              "      <td>Alabama[edit]\\n</td>\n",
              "      <td>Jacksonville</td>\n",
              "    </tr>\n",
              "    <tr>\n",
              "      <th>3</th>\n",
              "      <td>Alabama[edit]\\n</td>\n",
              "      <td>Livingston</td>\n",
              "    </tr>\n",
              "    <tr>\n",
              "      <th>4</th>\n",
              "      <td>Alabama[edit]\\n</td>\n",
              "      <td>Montevallo</td>\n",
              "    </tr>\n",
              "  </tbody>\n",
              "</table>\n",
              "</div>"
            ],
            "text/plain": [
              "             State          Town\n",
              "0  Alabama[edit]\\n        Auburn\n",
              "1  Alabama[edit]\\n      Florence\n",
              "2  Alabama[edit]\\n  Jacksonville\n",
              "3  Alabama[edit]\\n    Livingston\n",
              "4  Alabama[edit]\\n    Montevallo"
            ]
          },
          "metadata": {
            "tags": []
          },
          "execution_count": 17
        }
      ]
    },
    {
      "cell_type": "code",
      "metadata": {
        "id": "PtltXhMdXG4e",
        "colab_type": "code",
        "colab": {
          "base_uri": "https://localhost:8080/",
          "height": 195
        },
        "outputId": "2ed69e27-cf0a-4453-bd3d-6cc62d61cc79"
      },
      "source": [
        "def clean_state(item):\n",
        "  return item[:item.find('[')]\n",
        "\n",
        "df['State'] = df.State.apply(clean_state)\n",
        "df.head()"
      ],
      "execution_count": 18,
      "outputs": [
        {
          "output_type": "execute_result",
          "data": {
            "text/html": [
              "<div>\n",
              "<style scoped>\n",
              "    .dataframe tbody tr th:only-of-type {\n",
              "        vertical-align: middle;\n",
              "    }\n",
              "\n",
              "    .dataframe tbody tr th {\n",
              "        vertical-align: top;\n",
              "    }\n",
              "\n",
              "    .dataframe thead th {\n",
              "        text-align: right;\n",
              "    }\n",
              "</style>\n",
              "<table border=\"1\" class=\"dataframe\">\n",
              "  <thead>\n",
              "    <tr style=\"text-align: right;\">\n",
              "      <th></th>\n",
              "      <th>State</th>\n",
              "      <th>Town</th>\n",
              "    </tr>\n",
              "  </thead>\n",
              "  <tbody>\n",
              "    <tr>\n",
              "      <th>0</th>\n",
              "      <td>Alabama</td>\n",
              "      <td>Auburn</td>\n",
              "    </tr>\n",
              "    <tr>\n",
              "      <th>1</th>\n",
              "      <td>Alabama</td>\n",
              "      <td>Florence</td>\n",
              "    </tr>\n",
              "    <tr>\n",
              "      <th>2</th>\n",
              "      <td>Alabama</td>\n",
              "      <td>Jacksonville</td>\n",
              "    </tr>\n",
              "    <tr>\n",
              "      <th>3</th>\n",
              "      <td>Alabama</td>\n",
              "      <td>Livingston</td>\n",
              "    </tr>\n",
              "    <tr>\n",
              "      <th>4</th>\n",
              "      <td>Alabama</td>\n",
              "      <td>Montevallo</td>\n",
              "    </tr>\n",
              "  </tbody>\n",
              "</table>\n",
              "</div>"
            ],
            "text/plain": [
              "     State          Town\n",
              "0  Alabama        Auburn\n",
              "1  Alabama      Florence\n",
              "2  Alabama  Jacksonville\n",
              "3  Alabama    Livingston\n",
              "4  Alabama    Montevallo"
            ]
          },
          "metadata": {
            "tags": []
          },
          "execution_count": 18
        }
      ]
    },
    {
      "cell_type": "code",
      "metadata": {
        "id": "H7GUsCPNXeWp",
        "colab_type": "code",
        "colab": {
          "base_uri": "https://localhost:8080/",
          "height": 34
        },
        "outputId": "eb8198d1-c418-4446-f484-89293681d290"
      },
      "source": [
        "df = df.drop_duplicates()\n",
        "df.shape"
      ],
      "execution_count": 19,
      "outputs": [
        {
          "output_type": "execute_result",
          "data": {
            "text/plain": [
              "(465, 2)"
            ]
          },
          "metadata": {
            "tags": []
          },
          "execution_count": 19
        }
      ]
    },
    {
      "cell_type": "code",
      "metadata": {
        "id": "awyQwwvUXsBi",
        "colab_type": "code",
        "colab": {
          "base_uri": "https://localhost:8080/",
          "height": 1000
        },
        "outputId": "c1c3451e-2152-47b4-e298-bf17cc632c97"
      },
      "source": [
        "import matplotlib.pyplot as plt\n",
        "\n",
        "by_state = df.groupby(['State'])\n",
        "# print(by_state.count())\n",
        "states = by_state.groups.keys()\n",
        "\n",
        "plt.bar(states, by_state.Town.count())\n",
        "\n",
        "fig = plt.gcf()\n",
        "fig.set_size_inches(20, 10)\n",
        "plt.xticks(rotation=90)"
      ],
      "execution_count": 22,
      "outputs": [
        {
          "output_type": "execute_result",
          "data": {
            "text/plain": [
              "([0,\n",
              "  1,\n",
              "  2,\n",
              "  3,\n",
              "  4,\n",
              "  5,\n",
              "  6,\n",
              "  7,\n",
              "  8,\n",
              "  9,\n",
              "  10,\n",
              "  11,\n",
              "  12,\n",
              "  13,\n",
              "  14,\n",
              "  15,\n",
              "  16,\n",
              "  17,\n",
              "  18,\n",
              "  19,\n",
              "  20,\n",
              "  21,\n",
              "  22,\n",
              "  23,\n",
              "  24,\n",
              "  25,\n",
              "  26,\n",
              "  27,\n",
              "  28,\n",
              "  29,\n",
              "  30,\n",
              "  31,\n",
              "  32,\n",
              "  33,\n",
              "  34,\n",
              "  35,\n",
              "  36,\n",
              "  37,\n",
              "  38,\n",
              "  39,\n",
              "  40,\n",
              "  41,\n",
              "  42,\n",
              "  43,\n",
              "  44,\n",
              "  45,\n",
              "  46,\n",
              "  47,\n",
              "  48,\n",
              "  49],\n",
              " <a list of 50 Text major ticklabel objects>)"
            ]
          },
          "metadata": {
            "tags": []
          },
          "execution_count": 22
        },
        {
          "output_type": "display_data",
          "data": {
            "image/png": "[encoded data removed]",
            "text/plain": [
              "<Figure size 1440x720 with 1 Axes>"
            ]
          },
          "metadata": {
            "tags": [],
            "needs_background": "light"
          }
        }
      ]
    }
  ]
}