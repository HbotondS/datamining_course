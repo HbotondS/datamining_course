{
  "nbformat": 4,
  "nbformat_minor": 0,
  "metadata": {
    "colab": {
      "name": "lab9.ipynb",
      "provenance": []
    },
    "kernelspec": {
      "name": "python3",
      "display_name": "Python 3"
    }
  },
  "cells": [
    {
      "cell_type": "code",
      "metadata": {
        "id": "ZTj1INshLMC8",
        "colab_type": "code",
        "colab": {
          "resources": {
            "http://localhost:8080/nbextensions/google.colab/files.js": {
              "data": "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",
              "ok": true,
              "headers": [
                [
                  "content-type",
                  "application/javascript"
                ]
              ],
              "status": 200,
              "status_text": ""
            }
          },
          "base_uri": "https://localhost:8080/",
          "height": 111
        },
        "outputId": "5ffe79c1-6e21-48e8-aaec-a9c2164d2db2"
      },
      "source": [
        "from google.colab import files\n",
        "files.upload()"
      ],
      "execution_count": 5,
      "outputs": [
        {
          "output_type": "display_data",
          "data": {
            "text/html": [
              "\n",
              "     <input type=\"file\" id=\"files-c01197da-d407-466c-8b84-27029e8e0656\" name=\"files[]\" multiple disabled />\n",
              "     <output id=\"result-c01197da-d407-466c-8b84-27029e8e0656\">\n",
              "      Upload widget is only available when the cell has been executed in the\n",
              "      current browser session. Please rerun this cell to enable.\n",
              "      </output>\n",
              "      <script src=\"/nbextensions/google.colab/files.js\"></script> "
            ],
            "text/plain": [
              "<IPython.core.display.HTML object>"
            ]
          },
          "metadata": {
            "tags": []
          }
        },
        {
          "output_type": "stream",
          "text": [
            "Saving dbalance.csv to dbalance (1).csv\n"
          ],
          "name": "stdout"
        },
        {
          "output_type": "execute_result",
          "data": {
            "text/plain": [
              "{'dbalance.csv': b'B,1,1,1,1\\r\\nR,1,1,1,2\\r\\nR,1,1,1,3\\r\\nR,1,1,1,4\\r\\nR,1,1,1,5\\r\\nR,1,1,2,1\\r\\nR,1,1,2,2\\r\\nR,1,1,2,3\\r\\nR,1,1,2,4\\r\\nR,1,1,2,5\\r\\nR,1,1,3,1\\r\\nR,1,1,3,2\\r\\nR,1,1,3,3\\r\\nR,1,1,3,4\\r\\nR,1,1,3,5\\r\\nR,1,1,40,1\\r\\nR,1,1,4,2\\r\\nR,1,1,4,3\\r\\nR,1,1,4,4\\r\\nR,1,1,4,5\\r\\nR,1,1,5,1\\r\\nR,1,1,5,2\\r\\nZ,1,1,5,3\\r\\nR,1,1,5,4\\r\\nR,1,1,5,5\\r\\nL,1,2,1,1\\r\\nB,1,2,1,2\\r\\nR,1,2,1,3\\r\\nR,1,2,1,4\\r\\nR,1,2,1,5\\r\\nB,1,2,2,1\\r\\nR,1,2,2,2\\r\\nR,1,2,2,3\\r\\nR,1,2,2,4\\r\\nR,1,2,2,5\\r\\nR,1,2,3,1\\r\\nR,1,2,3,2\\r\\nR,1,2,3,3\\r\\nR,1,2,3,4\\r\\nR,1,2,3,5\\r\\nR,1,2,4,1\\r\\nR,1,2,4,2\\r\\nR,1,2,4,3\\r\\nR,1,2,4,4\\r\\nR,1,2,4,5\\r\\nR,1,2,5,1\\r\\nR,1,2,5,2\\r\\nR,1,2,5,3\\r\\nR,1,2,5,4\\r\\nR,1,2,5,5\\r\\nL,1,3,1,1\\r\\nL,1,3,1,2\\r\\nB,1,3,1,3\\r\\nR,1,3,1,4\\r\\nR,1,3,1,5\\r\\nL,1,3,2,1\\r\\nR,1,3,2,2\\r\\nR,1,3,2,3\\r\\nR,1,3,2,4\\r\\nR,1,3,2,5\\r\\nB,1,3,3,1\\r\\nR,1,3,3,2\\r\\nR,1,3,3,3\\r\\nR,1,3,3,4\\r\\nR,1,3,3,5\\r\\nR,1,3,4,1\\r\\nR,1,3,4,2\\r\\nR,1,3,4,3\\r\\nR,1,3,4,4\\r\\nR,1,3,4,5\\r\\nR,1,3,5,1\\r\\nR,1,3,5,2\\r\\nR,1,3,5,3\\r\\nR,1,3,5,4\\r\\nR,1,3,5,5\\r\\nL,1,4,1,1\\r\\nL,1,4,1,2\\r\\nL,1,4,1,3\\r\\nB,1,4,1,4\\r\\nR,1,4,1,5\\r\\nL,1,4,2,1\\r\\nB,1,4,2,2\\r\\nR,1,4,2,3\\r\\nR,1,4,2,4\\r\\nR,1,4,2,5\\r\\nL,1,4,3,1\\r\\nR,1,4,3,2\\r\\nR,1,4,3,3\\r\\nR,1,4,3,4\\r\\nR,1,4,3,5\\r\\nB,1,4,4,1\\r\\nR,1,4,4,2\\r\\nR,1,4,4,3\\r\\nR,1,4,4,4\\r\\nR,1,4,4,5\\r\\nR,1,4,5,1\\r\\nR,1,4,5,2\\r\\nR,1,4,5,3\\r\\nR,1,4,5,4\\r\\nR,1,4,5,5\\r\\nL,1,5,1,1\\r\\nL,1,5,1,2\\r\\nL,1,5,1,3\\r\\nL,1,5,1,4\\r\\nB,1,5,1,5\\r\\nL,1,5,2,1\\r\\nL,1,5,2,2\\r\\nR,1,5,2,3\\r\\nR,1,5,2,4\\r\\nR,1,5,2,5\\r\\nL,1,5,3,1\\r\\nR,1,5,3,2\\r\\nR,1,5,3,3\\r\\nR,1,5,3,4\\r\\nR,1,5,3,5\\r\\nL,1,5,4,1\\r\\nR,1,5,4,2\\r\\nR,1,5,4,3\\r\\nR,1,5,4,4\\r\\nR,1,5,4,5\\r\\nB,1,5,5,1\\r\\nR,1,5,5,2\\r\\nR,1,5,5,3\\r\\nR,1,5,5,4\\r\\nR,1,5,5,5\\r\\nL,2,1,1,1\\r\\nB,2,1,1,2\\r\\nR,2,1,1,3\\r\\nR,2,1,1,4\\r\\nR,2,1,1,5\\r\\nB,2,1,2,1\\r\\nR,2,1,2,2\\r\\nR,2,1,2,3\\r\\nR,2,1,2,4\\r\\nR,2,1,2,5\\r\\nR,2,1,3,1\\r\\nR,2,1,3,2\\r\\nR,2,1,3,3\\r\\nR,2,1,3,4\\r\\nR,2,1,3,5\\r\\nR,2,1,4,1\\r\\nR,2,1,4,2\\r\\nR,2,1,4,3\\r\\nR,2,1,4,4\\r\\nR,2,1,4,5\\r\\nR,2,1,5,1\\r\\nR,2,1,5,2\\r\\nR,2,1,5,3\\r\\nR,2,1,5,4\\r\\nR,2,1,5,5\\r\\nL,2,2,1,1\\r\\nL,2,2,1,2\\r\\nL,2,2,1,3\\r\\nB,2,2,1,4\\r\\nR,2,2,1,5\\r\\nL,2,2,2,1\\r\\nB,2,2,2,2\\r\\nR,2,2,2,3\\r\\nR,2,2,2,4\\r\\nR,2,2,2,5\\r\\nL,2,2,3,1\\r\\nR,2,2,3,2\\r\\nR,2,2,3,3\\r\\nR,2,2,3,4\\r\\nR,2,2,3,5\\r\\nB,2,2,4,1\\r\\nR,2,2,4,2\\r\\nR,2,2,4,3\\r\\nR,2,2,4,4\\r\\nR,2,2,4,5\\r\\nR,2,2,5,1\\r\\nR,2,2,5,2\\r\\nR,2,2,5,3\\r\\nR,2,2,5,4\\r\\nR,2,2,5,5\\r\\nL,2,3,1,1\\r\\nL,2,3,1,2\\r\\nL,2,3,1,3\\r\\nL,2,3,1,4\\r\\nL,2,3,1,5\\r\\nLLL,2,3,2,1\\r\\nL,2,3,2,2\\r\\nB,2,3,2,3\\r\\nR,2,3,2,4\\r\\nR,2,3,2,5\\r\\nL,2,3,3,1\\r\\nB,2,3,3,2\\r\\nR,2,3,3,3\\r\\nR,2,3,-3,4\\r\\nR,2,3,3,5\\r\\nL,2,3,4,1\\r\\nR,2,3,4,2\\r\\nR,2,3,4,3\\r\\nR,2,3,4,4\\r\\nR,2,3,4,5\\r\\nL,2,3,5,1\\r\\nR,2,3,5,2\\r\\nR,2,3,5,3\\r\\nR,2,3,5,4\\r\\nR,2,3,5,5\\r\\nL,2,4,1,1\\r\\nL,2,4,1,2\\r\\nL,2,4,1,3\\r\\nL,2,4,1,4\\r\\nL,2,4,1,5\\r\\nL,2,4,2,1\\r\\nL,2,4,2,2\\r\\nL,2,4,2,3\\r\\nB,20,4,20,4\\r\\nR,2,4,2,5\\r\\nL,2,4,3,1\\r\\nL,2,4,3,2\\r\\nR,2,4,3,3\\r\\nR,2,4,3,4\\r\\nR,2,4,3,5\\r\\nL,2,4,4,1\\r\\nB,2,4,4,2\\r\\nR,2,4,4,3\\r\\nR,2,4,4,4\\r\\nR,2,4,4,5\\r\\nL,2,4,5,1\\r\\nR,2,4,5,2\\r\\nR,2,4,5,3\\r\\nR,2,4,5,4\\r\\nR,2,4,5,5\\r\\nL,2,5,1,1\\r\\nL,2,5,1,2\\r\\nL,2,5,1,3\\r\\nL,2,5,1,4\\r\\nL,2,5,1,5\\r\\nL,2,5,2,1\\r\\nL,2,5,2,2\\r\\nL,2,5,2,3\\r\\nL,2,5,2,4\\r\\nB,2,5,2,5\\r\\nL,2,5,3,1\\r\\nL,2,5,3,2\\r\\nL,2,5,3,3\\r\\nR,2,5,3,4\\r\\nR,2,5,3,5\\r\\nL,2,5,4,1\\r\\nL,2,5,4,2\\r\\nR,2,5,4,3\\r\\nR,2,5,4,4\\r\\nR,2,5,4,5\\r\\nL,2,5,5,1\\r\\nB,2,5,5,2\\r\\nR,2,5,5,3\\r\\nR,2,5,5,4\\r\\nR,2,5,5,5\\r\\nL,3,1,1,1\\r\\nL,3,1,1,2\\r\\nB,3,1,1,3\\r\\nR,3,1,1,4\\r\\nR,3,1,1,5\\r\\nL,3,1,2,1\\r\\nR,3,1,2,2\\r\\nR,3,1,2,3\\r\\nR,3,1,2,4\\r\\nR,3,1,2,5\\r\\nB,3,1,3,1\\r\\nR,3,1,3,2\\r\\nR,3,1,3,3\\r\\nR,3,1,3,4\\r\\nR,3,1,3,5\\r\\nR,3,1,4,1\\r\\nR,3,1,4,2\\r\\nR,3,1,4,3\\r\\nR,3,1,4,4\\r\\nR,3,1,4,5\\r\\nR,3,1,5,1\\r\\nR,3,1,5,2\\r\\nR,3,1,5,3\\r\\nR,3,1,5,4\\r\\nR,3,1,5,5\\r\\nL,3,2,1,1\\r\\nL,3,2,1,2\\r\\nL,3,2,1,3\\r\\nL,3,2,1,4\\r\\nL,3,2,1,5\\r\\nL,3,2,2,1\\r\\nL,3,2,2,2\\r\\nB,3,2,2,3\\r\\nR,3,2,2,4\\r\\nR,3,2,2,5\\r\\nL,3,2,3,1\\r\\nB,3,2,3,2\\r\\nR,3,2,3,3\\r\\nR,3,2,3,4\\r\\nR,3,2,3,5\\r\\nL,3,2,4,1\\r\\nR,3,2,4,2\\r\\nR,3,2,4,3\\r\\nR,3,2,4,4\\r\\nR,3,2,4,5\\r\\nL,3,2,5,1\\r\\nR,3,2,5,2\\r\\nR,3,2,5,3\\r\\nR,3,2,5,4\\r\\nR,3,2,5,5\\r\\nL,3,3,1,1\\r\\nL,3,3,1,2\\r\\nL,3,3,1,3\\r\\nL,3,3,1,4\\r\\nL,3,3,1,5\\r\\nL,3,3,2,1\\r\\nL,3,3,2,2\\r\\nL,3,3,2,3\\r\\nL,3,3,2,4\\r\\nR,3,3,2,5\\r\\nL,3,3,3,1\\r\\nL,3,3,3,2\\r\\nB,3,3,3,3\\r\\nR,3,3,3,4\\r\\nR,3,3,3,5\\r\\nL,3,3,4,1\\r\\nL,3,3,4,2\\r\\nR,3,3,4,3\\r\\nR,3,3,4,4\\r\\nR,3,3,4,5\\r\\nL,3,3,5,1\\r\\nR,3,3,5,2\\r\\nR,3,3,5,3\\r\\nR,3,3,5,4\\r\\nR,3,3,5,5\\r\\nL,3,4,1,1\\r\\nL,3,4,1,2\\r\\nL,3,4,1,3\\r\\nL,3,4,1,4\\r\\nL,3,4,1,5\\r\\nL,3,4,2,1\\r\\nL,3,4,2,2\\r\\nL,3,4,2,3\\r\\nL,3,4,2,4\\r\\nL,3,4,2,5\\r\\nL,3,4,3,1\\r\\nL,3,4,3,2\\r\\nL,3,4,3,3\\r\\nB,3,4,3,4\\r\\nR,3,4,3,5\\r\\nL,3,4,4,1\\r\\nL,3,4,4,2\\r\\nB,3,4,4,3\\r\\nR,3,4,4,4\\r\\nR,3,4,4,5\\r\\nL,3,4,5,1\\r\\nL,3,4,5,2\\r\\nR,3,4,5,3\\r\\nR,3,4,5,4\\r\\nR,3,4,5,5\\r\\nL,3,5,1,1\\r\\nL,3,5,1,2\\r\\nL,3,5,1,3\\r\\nL,3,5,1,4\\r\\nL,3,5,1,5\\r\\nL,3,5,2,1\\r\\nL,3,5,2,2\\r\\nL,3,5,2,3\\r\\nL,3,5,2,4\\r\\nL,3,5,2,5\\r\\nL,3,5,3,1\\r\\nL,3,5,3,2\\r\\nL,3,5,3,3\\r\\nL,3,5,3,4\\r\\nB,3,5,3,5\\r\\nL,3,5,4,1\\r\\nL,3,5,4,2\\r\\nL,3,5,4,3\\r\\nR,3,5,4,4\\r\\nR,3,5,4,5\\r\\nL,3,5,5,1\\r\\nL,3,5,5,2\\r\\nB,3,5,5,3\\r\\nR,3,5,5,4\\r\\nR,3,5,5,5\\r\\nL,4,1,1,1\\r\\nL,4,1,1,2\\r\\nL,4,1,1,3\\r\\nB,4,1,1,4\\r\\nR,4,1,1,5\\r\\nL,4,1,2,1\\r\\nB,4,1,2,2\\r\\nR,4,1,2,3\\r\\nR,4,1,2,4\\r\\nR,4,1,2,5\\r\\nL,4,1,3,1\\r\\nR,4,1,3,2\\r\\nR,4,1,3,3\\r\\nR,4,1,3,4\\r\\nR,4,1,3,5\\r\\nB,4, ,4,1\\r\\nR,4,1,4,2\\r\\nR,4,1,4,3\\r\\nR,4,1,4,4\\r\\nR,4,1,4,5\\r\\nR,4,1,5,1\\r\\nR,4,1,5,2\\r\\nR,4,1,5,3\\r\\nR,4,1,5,4\\r\\nR,4,1,5,5\\r\\nL,4,2,1,1\\r\\nL,4,2,1,2\\r\\nL,4,2,1,3\\r\\nL,4,2,1,4\\r\\n ,4,2,1,5\\r\\nL,4,2,2,1\\r\\nL,4,2,2,2\\r\\nL,4,2,2,3\\r\\nB,4,2,2,4\\r\\nR,4,2,2,5\\r\\nL,4,2,3,1\\r\\nL,4,2,3,2\\r\\nR,4,2,3,3\\r\\nR,4,2,3,4\\r\\nmi,ez,itt,?,\\r\\nR,4,2,3,5\\r\\nL,4,2,4,1\\r\\nB,4,2,4,2\\r\\nR,4,2,4,3\\r\\nR,4,2,4,4\\r\\nR,4,2,4,5\\r\\nL,4,2,5,1\\r\\nR,4,2,5,2\\r\\nR,400,2,5,3\\r\\nR,4,2,5,4\\r\\nR,4,2,5,5\\r\\nL,4,3,1,1\\r\\nL,4,3,1,2\\r\\nL,4,3,1,3\\r\\nL,4,3,1,4\\r\\nL,4,3,1,5\\r\\nL,4,3,2,1\\r\\nL,4,3,2,2\\r\\nL,4,3,2,3\\r\\nL,4,3,2,4\\r\\nL,4,3,2,5\\r\\nL,4,3,3,1\\r\\nL,4,3,3,2\\r\\nL,4,3,3,3\\r\\nB,4,3,3,4\\r\\nR,4,3,3,5\\r\\nL,4,3,4,1\\r\\nL,4,3,4,2\\r\\nB,4,3,4,3\\r\\nR,4,3,4,4\\r\\nR,4,3,4,5\\r\\nL,4,3,5,1\\r\\nL,-4,3,5,2\\r\\nR,4,3,5,3\\r\\nR,4,3,5,4\\r\\nR,4,3,5,5\\r\\nL,4,4,1,1\\r\\nL,4,4,1,2\\r\\nL,4,4,1,3\\r\\nL,4,4,1,4\\r\\nL,4,4,1,5\\r\\nL,4,4,2,1\\r\\nL,4,4,2,2\\r\\nL,4,4,2,3\\r\\nL,4,4,2,4\\r\\nL,4,4,2,5\\r\\nL,4,4,3,1\\r\\nL,4,4,3,2\\r\\nL,4,4,3,3\\r\\nL,4,4,3,4\\r\\nL,4,4,3,5\\r\\nL,4,4,4,1\\r\\nL,4,4,4,2\\r\\nL,4,4,4,3\\r\\nB,4,4, ,4\\r\\nR,4,4,4,5\\r\\nL,4,4,5,1\\r\\nL,4,4,5,2\\r\\nL,4,4,5,3\\r\\nR,4,4,5,4\\r\\nR,4,4,5,5\\r\\nL,4,5,1,1\\r\\nL,4,5,1,2\\r\\nL,4,5,1,3\\r\\nL,4,5,1,4\\r\\nL,4,5,1,5\\r\\nL,4,5,2,1\\r\\nL,4,5,2,2\\r\\nL,4,5,2,3\\r\\nL,4,5,2,4\\r\\nL,4,5,2,5\\r\\nL,4,5,3,1\\r\\nL,4,5,3,2\\r\\nL,4,5,3,3\\r\\nL,4,5,3,4\\r\\nL,4,5,3,5\\r\\nL,4,5,4,1\\r\\nL,4,5,4,2\\r\\nL,4,5,4,3\\r\\nL,4,5,4,4\\r\\nB,4,5,4,5\\r\\nL,4,5,5,1\\r\\nL,4,5,5,2\\r\\nL,4,5,5,3\\r\\nB,4,5,5,4\\r\\nR,4,5,5,5\\r\\nL,5,1,1,1\\r\\nL,5,1,1,2\\r\\nL,5,1,1,3\\r\\nL,5,1,1,4\\r\\nB,5,1,1,5\\r\\nL,5,1,2,1\\r\\nL,5,1,2,2\\r\\nR,5,1,2,3\\r\\nR,5,1,2,4\\r\\nR,5,1,2,5\\r\\nL,5,1,3,1\\r\\nR,5,1,3,2\\r\\nR,5,1,3,3\\r\\nR,5,1,3,4\\r\\nR,5,1,3,5\\r\\nL,5,1,4,1\\r\\n ,5,1,4,2\\r\\nR,5,1,4,3\\r\\nR,5,1,4,4\\r\\nR,5,1,4,5\\r\\nB,5,1,5,1\\r\\nR,5,1,5,2\\r\\nR,5,1,5,3\\r\\nR,5,1,5,4\\r\\nR,5,1,5,5\\r\\nL,5,2,1,1\\r\\nL,5,2,1,2\\r\\nL,5,2,1,3\\r\\nL,5,2,1,4\\r\\nL,5,2,1,5\\r\\nL,5,2,2,1\\r\\nL,5,2,2,2\\r\\nL,5,22,2,3\\r\\nL,5,2,2,4\\r\\nB,5,2,2,5\\r\\nL,5,2,3,1\\r\\nL,5,2,3,2\\r\\nL,5,2,3,3\\r\\nR,5,2,3,4\\r\\nR,5,2,3,5\\r\\nL,5,2,4,1\\r\\nL,5,2,4,2\\r\\nR,5,2,4,3\\r\\nR,5,2,4,4\\r\\nR,5,2,4,5\\r\\nL,5,2,5,1\\r\\nB,5,2,5,2\\r\\nR,5,2,5,3\\r\\nR,5,2,5,4\\r\\nR,5,2,5,5\\r\\nL,5,3,1,1\\r\\nL,5,3,1,2\\r\\nL,5,3,1,3\\r\\nL,5,3,1,4\\r\\nL,5,3,1,5\\r\\nL,5,3,2,1\\r\\nL,5,3,2,2\\r\\nL,5,3,2,3\\r\\nL,5,3,2,4\\r\\nL,5,3,2,5\\r\\nL,5,3,3,1\\r\\nL,5,3,3,2\\r\\nL,5,3,3,3\\r\\nL,5,3,3,4\\r\\nB,5,3,3,5\\r\\nL,5,3,4,1\\r\\nL,5,3,4,2\\r\\nL,5,3,4,3\\r\\nR,5,3,4,4\\r\\nR,5,3,4,5\\r\\nL,5,3,5,1\\r\\nL,5,3,5,2\\r\\nB,5,3,5,3\\r\\nR,5,3,5,4\\r\\nR,5,3,5,5\\r\\nL,5,4,1,1\\r\\nL,5,4,1,2\\r\\nL,5,4,1,3\\r\\nL,5,4,1,4\\r\\nL,5,4,1,5\\r\\nL,5,4,2,1\\r\\nL,5,4,2,2\\r\\nL,5,4,2,3\\r\\nL,5,4,2,4\\r\\nL,5,4,2,5\\r\\nL,5,4,3,1\\r\\nL,5,4,3,2\\r\\nL,5,4,3,3\\r\\nL,5,4,3,4\\r\\nL,5,4,3,5\\r\\nL,5,4,4,1\\r\\nL,5,4,4,2\\r\\nL,5,4,4,3\\r\\nL,5,4,4,4\\r\\nB,5,4,4,5\\r\\nL,5,4,5,1\\r\\nL,5,4,5,2\\r\\nL,5,4,5,3\\r\\n ,5,4,5,4\\r\\nR,5,4,5,5\\r\\nL,5,5,1,1\\r\\nL,5,5,1,2\\r\\nL,5,5,1,3\\r\\nL,5,5,1,4\\r\\nL,5,5,1,5\\r\\nB,0,0,0,0\\r\\nL,5,5,2,1\\r\\nL,5,5,2,2\\r\\nL,5,5,2,3\\r\\nL,5,5,2,4\\r\\nL,5,5,2,5\\r\\na,b,c,d,e\\r\\nL,5,5,3,1\\r\\nL,5,5,3,2\\r\\nL,5,5,3,3\\r\\nL,5,5,3,4\\r\\nL,5,5,3,5\\r\\nL,5,5,4,1\\r\\nL,5,5,4,2\\r\\nL,5,5,4,3\\r\\n ,5,5,4,4\\r\\nL,5,5,4,5\\r\\nL,5,5,5,1\\r\\nL,5,5,5,2\\r\\nL,5,5,5,3\\r\\nL,5,5,5,4\\r\\n ,5,5,5,5\\r\\n'}"
            ]
          },
          "metadata": {
            "tags": []
          },
          "execution_count": 5
        }
      ]
    },
    {
      "cell_type": "markdown",
      "metadata": {
        "id": "ycNmkGyLVOL5",
        "colab_type": "text"
      },
      "source": [
        "importok"
      ]
    },
    {
      "cell_type": "code",
      "metadata": {
        "id": "52uCqFBHVPml",
        "colab_type": "code",
        "colab": {}
      },
      "source": [
        "import os\n",
        "import sys\n",
        "import numpy as np  \n",
        "import matplotlib.pyplot as plt  \n",
        "import pandas as pd\n",
        "from sklearn.tree import DecisionTreeClassifier\n",
        "from sklearn.model_selection import train_test_split\n",
        "from sklearn.metrics import accuracy_score"
      ],
      "execution_count": 0,
      "outputs": []
    },
    {
      "cell_type": "markdown",
      "metadata": {
        "id": "8_A1B6r_VU-X",
        "colab_type": "text"
      },
      "source": [
        "beolvasas + shape"
      ]
    },
    {
      "cell_type": "code",
      "metadata": {
        "id": "ACuuhhqVVX0l",
        "colab_type": "code",
        "colab": {
          "base_uri": "https://localhost:8080/",
          "height": 34
        },
        "outputId": "5414a41f-4963-4308-8369-9b71f35489e8"
      },
      "source": [
        "df = pd.read_csv(\"./dbalance.csv\", header=None)\n",
        "df.shape"
      ],
      "execution_count": 9,
      "outputs": [
        {
          "output_type": "execute_result",
          "data": {
            "text/plain": [
              "(628, 5)"
            ]
          },
          "metadata": {
            "tags": []
          },
          "execution_count": 9
        }
      ]
    },
    {
      "cell_type": "code",
      "metadata": {
        "id": "JcTFaGfjWKEP",
        "colab_type": "code",
        "colab": {
          "base_uri": "https://localhost:8080/",
          "height": 255
        },
        "outputId": "935dd4a4-7857-4058-bf31-293464c34245"
      },
      "source": [
        "df = df[(df[0]==\"L\") | (df[0]==\"B\") | (df[0]==\"R\")]\n",
        "df = df[(df[1]==\"1\") | (df[1]==\"2\") | (df[1]==\"3\") | (df[1]==\"4\") | (df[1]==\"5\")]\n",
        "df = df[(df[2]==\"1\") | (df[2]==\"2\") | (df[2]==\"3\") | (df[2]==\"4\") | (df[2]==\"5\")]\n",
        "df = df[(df[3]==\"1\") | (df[3]==\"2\") | (df[3]==\"3\") | (df[3]==\"4\") | (df[3]==\"5\")]\n",
        "df = df[(df[4]==\"1\") | (df[4]==\"2\") | (df[4]==\"3\") | (df[4]==\"4\") | (df[4]==\"5\")]\n",
        "df.describe"
      ],
      "execution_count": 12,
      "outputs": [
        {
          "output_type": "execute_result",
          "data": {
            "text/plain": [
              "<bound method NDFrame.describe of      0  1  2  3  4\n",
              "0    B  1  1  1  1\n",
              "1    R  1  1  1  2\n",
              "2    R  1  1  1  3\n",
              "3    R  1  1  1  4\n",
              "4    R  1  1  1  5\n",
              "..  .. .. .. .. ..\n",
              "622  L  5  5  4  5\n",
              "623  L  5  5  5  1\n",
              "624  L  5  5  5  2\n",
              "625  L  5  5  5  3\n",
              "626  L  5  5  5  4\n",
              "\n",
              "[610 rows x 5 columns]>"
            ]
          },
          "metadata": {
            "tags": []
          },
          "execution_count": 12
        }
      ]
    },
    {
      "cell_type": "markdown",
      "metadata": {
        "id": "2yiMpmReW5M3",
        "colab_type": "text"
      },
      "source": [
        "mennyi adat van"
      ]
    },
    {
      "cell_type": "code",
      "metadata": {
        "id": "AaHOAfRwWs_G",
        "colab_type": "code",
        "colab": {
          "base_uri": "https://localhost:8080/",
          "height": 34
        },
        "outputId": "f3974fb1-670b-49d7-d70d-04c021f1f4b1"
      },
      "source": [
        "datacount = len(df)\n",
        "datacount"
      ],
      "execution_count": 16,
      "outputs": [
        {
          "output_type": "execute_result",
          "data": {
            "text/plain": [
              "610"
            ]
          },
          "metadata": {
            "tags": []
          },
          "execution_count": 16
        }
      ]
    },
    {
      "cell_type": "markdown",
      "metadata": {
        "id": "8fK4RZSMYiQi",
        "colab_type": "text"
      },
      "source": [
        "osztalyeloszlas"
      ]
    },
    {
      "cell_type": "code",
      "metadata": {
        "id": "yQSQH1dDYj1I",
        "colab_type": "code",
        "colab": {
          "base_uri": "https://localhost:8080/",
          "height": 282
        },
        "outputId": "0cee4aab-5664-45be-c497-89205fcc7a76"
      },
      "source": [
        "L = sum(df[0] == 'L') / datacount\n",
        "B = sum(df[0] == 'B') / datacount\n",
        "R = sum(df[0] == 'R') / datacount\n",
        "plt.bar(['l', 'b', 'r'], [L, B, B])"
      ],
      "execution_count": 17,
      "outputs": [
        {
          "output_type": "execute_result",
          "data": {
            "text/plain": [
              "<BarContainer object of 3 artists>"
            ]
          },
          "metadata": {
            "tags": []
          },
          "execution_count": 17
        },
        {
          "output_type": "display_data",
          "data": {
            "image/png": "[encoded data removed]",
            "text/plain": [
              "<Figure size 432x288 with 1 Axes>"
            ]
          },
          "metadata": {
            "tags": [],
            "needs_background": "light"
          }
        }
      ]
    },
    {
      "cell_type": "code",
      "metadata": {
        "id": "6fsRGMaEbBCS",
        "colab_type": "code",
        "colab": {
          "base_uri": "https://localhost:8080/",
          "height": 34
        },
        "outputId": "9817d218-55cb-491d-e6b1-274420d1231e"
      },
      "source": [
        "dtc = DecisionTreeClassifier()\n",
        "X = df.iloc[:,1:4]\n",
        "y = df.iloc[:,0]\n",
        "X_train, X_test, y_train, y_test = train_test_split(X, y, test_size=0.30, random_state=40)\n",
        "\n",
        "dtc.fit(X_train, y_train)\n",
        "y_pred = dtc.predict(X_test)\n",
        "accuracy_score(y_test, y_pred)"
      ],
      "execution_count": 21,
      "outputs": [
        {
          "output_type": "execute_result",
          "data": {
            "text/plain": [
              "0.6721311475409836"
            ]
          },
          "metadata": {
            "tags": []
          },
          "execution_count": 21
        }
      ]
    }
  ]
}